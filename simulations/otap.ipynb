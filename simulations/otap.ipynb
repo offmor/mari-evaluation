{
 "cells": [
  {
   "cell_type": "markdown",
   "id": "b127b887",
   "metadata": {},
   "source": [
    "# OTAP"
   ]
  },
  {
   "cell_type": "code",
   "execution_count": 36,
   "id": "8caee734",
   "metadata": {},
   "outputs": [
    {
     "name": "stdout",
     "output_type": "stream",
     "text": [
      "Success chance to have all nodes ACK (%):\n",
      " Nodes  0 retries  1 retries  2 retries  3 retries  4 retries  5 retries\n",
      "     1      90.00      99.00      99.90      99.99     100.00     100.00\n",
      "    11      31.38      52.91      67.69      77.83      84.79      89.56\n",
      "    21      10.94      20.69      29.36      37.09      43.98      50.11\n",
      "    31       3.82       7.48      11.01      14.41      17.67      20.82\n",
      "    41       1.33       2.64       3.94       5.22       6.48       7.72\n",
      "    51       0.46       0.93       1.39       1.84       2.30       2.75\n",
      "    61       0.16       0.32       0.48       0.65       0.81       0.97\n",
      "    71       0.06       0.11       0.17       0.23       0.28       0.34\n",
      "    81       0.02       0.04       0.06       0.08       0.10       0.12\n",
      "    91       0.01       0.01       0.02       0.03       0.03       0.04\n"
     ]
    }
   ],
   "source": [
    "import pandas as pd\n",
    "\n",
    "nodes = 50\n",
    "pdr = 0.9\n",
    "max_retries = 5\n",
    "\n",
    "def calculate_success_chance_all_nodes_ack(nodes, pdr, max_retries):\n",
    "      loss_chance_ack = 1 - (pdr ** nodes)\n",
    "      results = {}\n",
    "      for retries in range(0, max_retries + 1):\n",
    "            success_chance_all_nodes_ack = 1 - (loss_chance_ack ** (retries + 1))\n",
    "            results[retries] = round(success_chance_all_nodes_ack * 100, 2)\n",
    "      return results\n",
    "\n",
    "# Collect all results\n",
    "all_results = []\n",
    "for nodes in range(1, 100, 10):\n",
    "    results = calculate_success_chance_all_nodes_ack(nodes, pdr, max_retries)\n",
    "    row = {'Nodes': nodes}\n",
    "    for retries in range(0, max_retries + 1):\n",
    "        row[f'{retries} retries'] = results[retries]\n",
    "    all_results.append(row)\n",
    "\n",
    "# Create DataFrame\n",
    "df = pd.DataFrame(all_results)\n",
    "print(\"Success chance to have all nodes ACK (%):\")\n",
    "print(df.to_string(index=False))"
   ]
  }
 ],
 "metadata": {
  "kernelspec": {
   "display_name": ".venv",
   "language": "python",
   "name": "python3"
  },
  "language_info": {
   "codemirror_mode": {
    "name": "ipython",
    "version": 3
   },
   "file_extension": ".py",
   "mimetype": "text/x-python",
   "name": "python",
   "nbconvert_exporter": "python",
   "pygments_lexer": "ipython3",
   "version": "3.10.12"
  }
 },
 "nbformat": 4,
 "nbformat_minor": 5
}
